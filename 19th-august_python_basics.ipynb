{
 "cells": [
  {
   "cell_type": "code",
   "execution_count": 1,
   "id": "c3458f91-0c08-41fd-b982-9892ed5b5703",
   "metadata": {},
   "outputs": [
    {
     "name": "stdout",
     "output_type": "stream",
     "text": [
      "9\n",
      "5\n"
     ]
    }
   ],
   "source": [
    "# Pyhton program to swap numbers without using any temp variable\n",
    "x = 5\n",
    "y = 9\n",
    "x = x+y\n",
    "y = x-y\n",
    "x = x-y\n",
    "print(x)\n",
    "print(y)\n"
   ]
  },
  {
   "cell_type": "code",
   "execution_count": 3,
   "id": "3156e866-f6ae-4ca2-b757-0b1a5ace6e38",
   "metadata": {},
   "outputs": [
    {
     "name": "stdin",
     "output_type": "stream",
     "text": [
      "Enter length= 9\n",
      "Enter width= 8\n"
     ]
    },
    {
     "name": "stdout",
     "output_type": "stream",
     "text": [
      "area of rectange is = 72\n"
     ]
    }
   ],
   "source": [
    "# 2nd question to calculate the area of rectangle\n",
    "l=int(input(\"Enter length=\"))\n",
    "w=int(input(\"Enter width=\"))\n",
    "area = l*w\n",
    "print(\"area of rectange is =\",area)\n",
    "            "
   ]
  },
  {
   "cell_type": "code",
   "execution_count": 4,
   "id": "7bde6bd1-5f0c-4614-80db-bc8766b87232",
   "metadata": {},
   "outputs": [
    {
     "name": "stdin",
     "output_type": "stream",
     "text": [
      "Enter the temperature in celsius :\n",
      " 32\n"
     ]
    },
    {
     "name": "stdout",
     "output_type": "stream",
     "text": [
      "temperature in Fahrenheit :  89.6\n"
     ]
    }
   ],
   "source": [
    "# 3 python program that converts temperature from celsius to fahrenheit\n",
    "celsius = int(input(\"Enter the temperature in celsius :\\n\"))\n",
    "fahrenheit = (1.8 * celsius) + 32\n",
    "print(\"temperature in Fahrenheit : \",fahrenheit)"
   ]
  },
  {
   "cell_type": "code",
   "execution_count": 11,
   "id": "a1d860e0-f147-4b0b-92bb-f688e406a1d8",
   "metadata": {},
   "outputs": [
    {
     "name": "stdin",
     "output_type": "stream",
     "text": [
      "Enter a string:  afroz\n"
     ]
    },
    {
     "name": "stdout",
     "output_type": "stream",
     "text": [
      "The length of the input string is: 5\n"
     ]
    }
   ],
   "source": [
    "#String based questions\n",
    "#python program that takes a string a sinut and prints the lengths of the string\n",
    "input_str = input(\"Enter a string: \")\n",
    "str_length = len(input_str)\n",
    "print(\"The length of the input string is:\",str_length)"
   ]
  },
  {
   "cell_type": "code",
   "execution_count": 13,
   "id": "733c2844-6c3f-4471-ba14-2621299913e0",
   "metadata": {},
   "outputs": [
    {
     "name": "stdin",
     "output_type": "stream",
     "text": [
      "Enter a sentence:  Afroz is a good boy\n"
     ]
    },
    {
     "name": "stdout",
     "output_type": "stream",
     "text": [
      "number of vowels in sentence: 7\n"
     ]
    }
   ],
   "source": [
    "# python program to count number of vowels in a  sentence\n",
    "sentence = input(\"Enter a sentence: \")\n",
    "vowel_count = 0\n",
    "vowels = set(\"AEIOUaeiou\")\n",
    "for char in sentence:\n",
    "    if char in vowels:\n",
    "        vowel_count +=1\n",
    "print(f\"number of vowels in sentence: {vowel_count}\")"
   ]
  },
  {
   "cell_type": "code",
   "execution_count": 19,
   "id": "573147b7-aa36-4083-827d-6fc18233f333",
   "metadata": {},
   "outputs": [
    {
     "name": "stdin",
     "output_type": "stream",
     "text": [
      "Enter a string:  likki\n"
     ]
    },
    {
     "name": "stdout",
     "output_type": "stream",
     "text": [
      "Reversed String: ikkil\n"
     ]
    }
   ],
   "source": [
    "# python program to reverse a string\n",
    "input_string = input(\"Enter a string: \")\n",
    "reversed_string=input_string[::-1]\n",
    "print(\"Reversed String:\",reversed_string)\n"
   ]
  },
  {
   "cell_type": "code",
   "execution_count": 27,
   "id": "f3cee284-7160-491f-9142-fc3613728b33",
   "metadata": {},
   "outputs": [
    {
     "name": "stdin",
     "output_type": "stream",
     "text": [
      "Enter a  string kiik\n"
     ]
    },
    {
     "name": "stdout",
     "output_type": "stream",
     "text": [
      "the input string is palindrome\n"
     ]
    }
   ],
   "source": [
    "# python program to take input from use r and checks if it is palindrome or not\n",
    "str = input(\"Enter a  string\")\n",
    "new_str = str.replace(\" \",\"\").lower()\n",
    "str=new_str[::-1]\n",
    "if new_str == str:\n",
    "    print(\"the input string is palindrome\")\n",
    "else:\n",
    "    print(\"The input string is not palindrome\")\n",
    "    "
   ]
  },
  {
   "cell_type": "code",
   "execution_count": 39,
   "id": "7e01f6ff-c119-4113-a8e3-5779416282d9",
   "metadata": {},
   "outputs": [
    {
     "name": "stdin",
     "output_type": "stream",
     "text": [
      "enter a string:  A f r o z\n"
     ]
    },
    {
     "name": "stdout",
     "output_type": "stream",
     "text": [
      "Modified string without spaces:  Afroz\n"
     ]
    }
   ],
   "source": [
    "#python program that takes a string as input and removes all the spaces from it \n",
    "input_str=input(\"enter a string: \")\n",
    "modified_string = \"\"\n",
    "for char in input_str:\n",
    "    if char != \" \":\n",
    "        modified_string +=char\n",
    "print(\"Modified string without spaces: \",modified_string)\n"
   ]
  },
  {
   "cell_type": "code",
   "execution_count": null,
   "id": "6c23032e-90ef-45b0-98ee-1b35dc95d841",
   "metadata": {},
   "outputs": [],
   "source": []
  }
 ],
 "metadata": {
  "kernelspec": {
   "display_name": "Python 3 (ipykernel)",
   "language": "python",
   "name": "python3"
  },
  "language_info": {
   "codemirror_mode": {
    "name": "ipython",
    "version": 3
   },
   "file_extension": ".py",
   "mimetype": "text/x-python",
   "name": "python",
   "nbconvert_exporter": "python",
   "pygments_lexer": "ipython3",
   "version": "3.10.8"
  }
 },
 "nbformat": 4,
 "nbformat_minor": 5
}
